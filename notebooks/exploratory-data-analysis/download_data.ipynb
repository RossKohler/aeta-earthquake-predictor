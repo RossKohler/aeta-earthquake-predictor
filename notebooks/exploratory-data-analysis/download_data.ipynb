{
 "cells": [
  {
   "cell_type": "code",
   "execution_count": 6,
   "id": "ee1a222e-0185-4c9c-8a4f-4533c018f06f",
   "metadata": {},
   "outputs": [],
   "source": [
    "import os\n",
    "from dotenv import load_dotenv"
   ]
  },
  {
   "cell_type": "code",
   "execution_count": null,
   "id": "387f37d2-54d0-4783-b381-d22e1045f052",
   "metadata": {},
   "outputs": [],
   "source": [
    "# loads configs from '.env' file, in this case I store the AETA api token you can get here https://competition.aeta.io/api-token\n",
    "# I suggest you create your own .env file and do the same (these shouldn't enter the repo)\n",
    "load_dotenv()"
   ]
  },
  {
   "cell_type": "code",
   "execution_count": 13,
   "id": "3af0fc21-9578-4631-aacf-ba8e37a9b8f2",
   "metadata": {},
   "outputs": [
    {
     "data": {
      "text/plain": [
       "'8c01862208294e8cb8e15ed9f2ff56a2'"
      ]
     },
     "execution_count": 13,
     "metadata": {},
     "output_type": "execute_result"
    }
   ],
   "source": [
    "aeta_api_token = os.environ.get('aeta_api_token')\n",
    "aeta_api_token"
   ]
  },
  {
   "cell_type": "code",
   "execution_count": 31,
   "id": "49c4f658-681b-4541-b7e7-bef06f8f2f60",
   "metadata": {},
   "outputs": [],
   "source": [
    "data_folder = './data'\n",
    "if not os.path.isdir(data_folder):\n",
    "    os.mkdir(data_folder)"
   ]
  },
  {
   "cell_type": "markdown",
   "id": "82be7b87-fcec-42eb-999c-c8aa0e873d11",
   "metadata": {},
   "source": [
    "## Function to download data from AETA website"
   ]
  },
  {
   "cell_type": "markdown",
   "id": "701d14eb-d5cf-452f-bb0c-3b9fadb844f2",
   "metadata": {},
   "source": [
    "Before this works for you, you need to get your own API token here https://competition.aeta.io/api-token"
   ]
  },
  {
   "cell_type": "code",
   "execution_count": 32,
   "id": "049c21c8-16d2-4ab5-bcc6-ff9556175b16",
   "metadata": {},
   "outputs": [],
   "source": [
    "def download_aeta_data_to_file(data_type, date_range_str, save_to, token, oversea=True):\n",
    "    assert data_type in ('EM', 'GA', 'EM&GA', 'EC')\n",
    "    import requests\n",
    "    oversea = 'true' if oversea else 'false'\n",
    "    url = 'https://api.competition.aeta.cn/downloadByToken'\n",
    "    params = {\n",
    "      'dataType': data_type,\n",
    "      'date': date_range_str,\n",
    "      'oversea': oversea,\n",
    "    }\n",
    "    resp = requests.get(url, params=params, headers={'Authorization': f'{token}'})\n",
    "    resp.raise_for_status()\n",
    "    with open(save_to, 'wb') as fd:\n",
    "        for chunk in resp.iter_content(chunk_size=128):\n",
    "            fd.write(chunk)\n",
    "\n",
    "\n",
    "download_aeta_data_to_file('EM&GA', '20210307-20210313', os.path.join(data_folder, '20210307-20210313.zip'),aeta_api_token)"
   ]
  },
  {
   "cell_type": "code",
   "execution_count": null,
   "id": "02e4764d-7712-43d3-874b-710af144bd0b",
   "metadata": {},
   "outputs": [],
   "source": []
  }
 ],
 "metadata": {
  "kernelspec": {
   "display_name": "Python 3",
   "language": "python",
   "name": "python3"
  },
  "language_info": {
   "codemirror_mode": {
    "name": "ipython",
    "version": 3
   },
   "file_extension": ".py",
   "mimetype": "text/x-python",
   "name": "python",
   "nbconvert_exporter": "python",
   "pygments_lexer": "ipython3",
   "version": "3.7.0"
  }
 },
 "nbformat": 4,
 "nbformat_minor": 5
}
